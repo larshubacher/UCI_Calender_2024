{
 "cells": [
  {
   "cell_type": "code",
   "execution_count": 1,
   "metadata": {},
   "outputs": [],
   "source": [
    "import pandas as pd\n",
    "import numpy as np\n",
    "from geopy.geocoders import Nominatim\n",
    "import time"
   ]
  },
  {
   "cell_type": "code",
   "execution_count": 2,
   "metadata": {},
   "outputs": [],
   "source": [
    "path = \"../data/uci_calender_2024_raw.csv\""
   ]
  },
  {
   "cell_type": "code",
   "execution_count": 3,
   "metadata": {},
   "outputs": [],
   "source": [
    "df = pd.read_csv(path)"
   ]
  },
  {
   "cell_type": "code",
   "execution_count": 4,
   "metadata": {},
   "outputs": [
    {
     "data": {
      "text/html": [
       "<div>\n",
       "<style scoped>\n",
       "    .dataframe tbody tr th:only-of-type {\n",
       "        vertical-align: middle;\n",
       "    }\n",
       "\n",
       "    .dataframe tbody tr th {\n",
       "        vertical-align: top;\n",
       "    }\n",
       "\n",
       "    .dataframe thead th {\n",
       "        text-align: right;\n",
       "    }\n",
       "</style>\n",
       "<table border=\"1\" class=\"dataframe\">\n",
       "  <thead>\n",
       "    <tr style=\"text-align: right;\">\n",
       "      <th></th>\n",
       "      <th>Date</th>\n",
       "      <th>Event_Link</th>\n",
       "      <th>Event_Name</th>\n",
       "      <th>Counter_Code</th>\n",
       "      <th>Location</th>\n",
       "      <th>Category</th>\n",
       "    </tr>\n",
       "  </thead>\n",
       "  <tbody>\n",
       "    <tr>\n",
       "      <th>0</th>\n",
       "      <td>13 Jan-13 Jan</td>\n",
       "      <td>https://mtbdata.com/comp/israel-cup-1-mishmar-...</td>\n",
       "      <td>Israel Cup 1 Mishmar Haemek</td>\n",
       "      <td>ISR</td>\n",
       "      <td>Mishmar Haemek</td>\n",
       "      <td>C2</td>\n",
       "    </tr>\n",
       "    <tr>\n",
       "      <th>1</th>\n",
       "      <td>20 Jan-20 Jan</td>\n",
       "      <td>https://mtbdata.com/comp/momentum-medical-sche...</td>\n",
       "      <td>Momentum Medical Scheme Attakwas Extreme prese...</td>\n",
       "      <td>RSA</td>\n",
       "      <td>Oudtshoorn</td>\n",
       "      <td>C1</td>\n",
       "    </tr>\n",
       "    <tr>\n",
       "      <th>2</th>\n",
       "      <td>25 Jan-28 Jan</td>\n",
       "      <td>https://mtbdata.com/comp/costa-blanca-bike-rac...</td>\n",
       "      <td>Costa Blanca Bike Race - CBBR - XCMS</td>\n",
       "      <td>ESP</td>\n",
       "      <td>Calpe (Alicante)</td>\n",
       "      <td>S1</td>\n",
       "    </tr>\n",
       "    <tr>\n",
       "      <th>3</th>\n",
       "      <td>03 Feb-03 Feb</td>\n",
       "      <td>https://mtbdata.com/comp/volcat-platja-daro-e-...</td>\n",
       "      <td>Volcat Platja D'aro E-1</td>\n",
       "      <td>ESP</td>\n",
       "      <td>Platja D'Aro</td>\n",
       "      <td>C3</td>\n",
       "    </tr>\n",
       "    <tr>\n",
       "      <th>4</th>\n",
       "      <td>04 Feb-04 Feb</td>\n",
       "      <td>https://mtbdata.com/comp/xco-cup-elda-04-feb-2...</td>\n",
       "      <td>XCO CUP Elda</td>\n",
       "      <td>ESP</td>\n",
       "      <td>Elda (Alicante)</td>\n",
       "      <td>C1</td>\n",
       "    </tr>\n",
       "    <tr>\n",
       "      <th>...</th>\n",
       "      <td>...</td>\n",
       "      <td>...</td>\n",
       "      <td>...</td>\n",
       "      <td>...</td>\n",
       "      <td>...</td>\n",
       "      <td>...</td>\n",
       "    </tr>\n",
       "    <tr>\n",
       "      <th>319</th>\n",
       "      <td>20 Oct-20 Oct</td>\n",
       "      <td>https://mtbdata.com/comp/south-african-nationa...</td>\n",
       "      <td>South African National Championships - XCM</td>\n",
       "      <td>RSA</td>\n",
       "      <td>Gauteng</td>\n",
       "      <td>CN</td>\n",
       "    </tr>\n",
       "    <tr>\n",
       "      <th>320</th>\n",
       "      <td>26 Oct-26 Oct</td>\n",
       "      <td>https://mtbdata.com/comp/israel-cup-5-elad-26-...</td>\n",
       "      <td>Israel Cup 5 Elad</td>\n",
       "      <td>ISR</td>\n",
       "      <td>Elad</td>\n",
       "      <td>C1</td>\n",
       "    </tr>\n",
       "    <tr>\n",
       "      <th>321</th>\n",
       "      <td>27 Oct-27 Oct</td>\n",
       "      <td>https://mtbdata.com/comp/cyprus-national-champ...</td>\n",
       "      <td>Cyprus National Championships - DHI</td>\n",
       "      <td>CYP</td>\n",
       "      <td>Macheras</td>\n",
       "      <td>CN</td>\n",
       "    </tr>\n",
       "    <tr>\n",
       "      <th>322</th>\n",
       "      <td>01 Dec-01 Dec</td>\n",
       "      <td>https://mtbdata.com/comp/chile-national-champi...</td>\n",
       "      <td>Chile National Championships - DHI</td>\n",
       "      <td>CHI</td>\n",
       "      <td>Temuco</td>\n",
       "      <td>CN</td>\n",
       "    </tr>\n",
       "    <tr>\n",
       "      <th>323</th>\n",
       "      <td>08 Dec-08 Dec</td>\n",
       "      <td>https://mtbdata.com/comp/hong-kong-national-ch...</td>\n",
       "      <td>Hong Kong National Championships - DHI</td>\n",
       "      <td>HKG</td>\n",
       "      <td>Hong Kong</td>\n",
       "      <td>CN</td>\n",
       "    </tr>\n",
       "  </tbody>\n",
       "</table>\n",
       "<p>324 rows × 6 columns</p>\n",
       "</div>"
      ],
      "text/plain": [
       "              Date                                         Event_Link  \\\n",
       "0    13 Jan-13 Jan  https://mtbdata.com/comp/israel-cup-1-mishmar-...   \n",
       "1    20 Jan-20 Jan  https://mtbdata.com/comp/momentum-medical-sche...   \n",
       "2    25 Jan-28 Jan  https://mtbdata.com/comp/costa-blanca-bike-rac...   \n",
       "3    03 Feb-03 Feb  https://mtbdata.com/comp/volcat-platja-daro-e-...   \n",
       "4    04 Feb-04 Feb  https://mtbdata.com/comp/xco-cup-elda-04-feb-2...   \n",
       "..             ...                                                ...   \n",
       "319  20 Oct-20 Oct  https://mtbdata.com/comp/south-african-nationa...   \n",
       "320  26 Oct-26 Oct  https://mtbdata.com/comp/israel-cup-5-elad-26-...   \n",
       "321  27 Oct-27 Oct  https://mtbdata.com/comp/cyprus-national-champ...   \n",
       "322  01 Dec-01 Dec  https://mtbdata.com/comp/chile-national-champi...   \n",
       "323  08 Dec-08 Dec  https://mtbdata.com/comp/hong-kong-national-ch...   \n",
       "\n",
       "                                            Event_Name Counter_Code  \\\n",
       "0                          Israel Cup 1 Mishmar Haemek          ISR   \n",
       "1    Momentum Medical Scheme Attakwas Extreme prese...          RSA   \n",
       "2                 Costa Blanca Bike Race - CBBR - XCMS          ESP   \n",
       "3                              Volcat Platja D'aro E-1          ESP   \n",
       "4                                         XCO CUP Elda          ESP   \n",
       "..                                                 ...          ...   \n",
       "319         South African National Championships - XCM          RSA   \n",
       "320                                  Israel Cup 5 Elad          ISR   \n",
       "321                Cyprus National Championships - DHI          CYP   \n",
       "322                 Chile National Championships - DHI          CHI   \n",
       "323             Hong Kong National Championships - DHI          HKG   \n",
       "\n",
       "             Location Category  \n",
       "0      Mishmar Haemek       C2  \n",
       "1          Oudtshoorn       C1  \n",
       "2    Calpe (Alicante)       S1  \n",
       "3        Platja D'Aro       C3  \n",
       "4     Elda (Alicante)       C1  \n",
       "..                ...      ...  \n",
       "319           Gauteng       CN  \n",
       "320              Elad       C1  \n",
       "321          Macheras       CN  \n",
       "322            Temuco       CN  \n",
       "323         Hong Kong       CN  \n",
       "\n",
       "[324 rows x 6 columns]"
      ]
     },
     "execution_count": 4,
     "metadata": {},
     "output_type": "execute_result"
    }
   ],
   "source": [
    "df"
   ]
  },
  {
   "cell_type": "code",
   "execution_count": 5,
   "metadata": {},
   "outputs": [
    {
     "name": "stdout",
     "output_type": "stream",
     "text": [
      "<class 'pandas.core.frame.DataFrame'>\n",
      "RangeIndex: 324 entries, 0 to 323\n",
      "Data columns (total 6 columns):\n",
      " #   Column        Non-Null Count  Dtype \n",
      "---  ------        --------------  ----- \n",
      " 0   Date          324 non-null    object\n",
      " 1   Event_Link    324 non-null    object\n",
      " 2   Event_Name    324 non-null    object\n",
      " 3   Counter_Code  324 non-null    object\n",
      " 4   Location      314 non-null    object\n",
      " 5   Category      324 non-null    object\n",
      "dtypes: object(6)\n",
      "memory usage: 15.3+ KB\n"
     ]
    }
   ],
   "source": [
    "df.info()"
   ]
  },
  {
   "cell_type": "code",
   "execution_count": null,
   "metadata": {},
   "outputs": [],
   "source": [
    "df[\"Location\"] = df[\"Location\"].fillna(0)"
   ]
  },
  {
   "cell_type": "code",
   "execution_count": 15,
   "metadata": {},
   "outputs": [
    {
     "data": {
      "text/plain": [
       "'Mishmar Haemek'"
      ]
     },
     "execution_count": 15,
     "metadata": {},
     "output_type": "execute_result"
    }
   ],
   "source": [
    "df[\"Location\"][0]"
   ]
  },
  {
   "cell_type": "code",
   "execution_count": 21,
   "metadata": {},
   "outputs": [
    {
     "name": "stdout",
     "output_type": "stream",
     "text": [
      "(32.6105821, 35.1421972)\n"
     ]
    }
   ],
   "source": [
    "address=df[\"Location\"][0]\n",
    "geolocator = Nominatim(user_agent=\"Your_Name\")\n",
    "location = geolocator.geocode(address)\n",
    "#print(location.address)\n",
    "print((location.latitude, location.longitude))"
   ]
  },
  {
   "cell_type": "code",
   "execution_count": 33,
   "metadata": {},
   "outputs": [],
   "source": [
    "latitude = []\n",
    "longitude = []\n",
    "for index, row in df.iterrows():\n",
    "    #time.sleep(4)\n",
    "    address = row[\"Location\"]\n",
    "    geolocator = Nominatim(user_agent=\"Your_Name\")\n",
    "    location = geolocator.geocode(address, timeout=10)\n",
    "    if location is not None:\n",
    "        latitude.append(location.latitude)\n",
    "        longitude.append(location.longitude)\n",
    "    else:\n",
    "        latitude.append(np.nan)\n",
    "        longitude.append(np.nan)"
   ]
  },
  {
   "cell_type": "code",
   "execution_count": 35,
   "metadata": {},
   "outputs": [],
   "source": [
    "df['latitude'] = latitude\n",
    "df['longitude'] = longitude"
   ]
  },
  {
   "cell_type": "code",
   "execution_count": 36,
   "metadata": {},
   "outputs": [],
   "source": [
    "csv_file = \"../data/uci_calender_2024.csv\"\n",
    "\n",
    "# Write the DataFrame to a CSV file\n",
    "df.to_csv(csv_file, index=False)"
   ]
  },
  {
   "cell_type": "code",
   "execution_count": null,
   "metadata": {},
   "outputs": [],
   "source": []
  },
  {
   "cell_type": "code",
   "execution_count": null,
   "metadata": {},
   "outputs": [],
   "source": []
  },
  {
   "cell_type": "code",
   "execution_count": null,
   "metadata": {},
   "outputs": [],
   "source": []
  }
 ],
 "metadata": {
  "kernelspec": {
   "display_name": ".venv",
   "language": "python",
   "name": "python3"
  },
  "language_info": {
   "codemirror_mode": {
    "name": "ipython",
    "version": 3
   },
   "file_extension": ".py",
   "mimetype": "text/x-python",
   "name": "python",
   "nbconvert_exporter": "python",
   "pygments_lexer": "ipython3",
   "version": "3.10.13"
  }
 },
 "nbformat": 4,
 "nbformat_minor": 2
}
