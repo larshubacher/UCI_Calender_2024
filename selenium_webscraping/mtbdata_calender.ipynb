{
 "cells": [
  {
   "cell_type": "code",
   "execution_count": 38,
   "metadata": {},
   "outputs": [],
   "source": [
    "from selenium import webdriver\n",
    "from selenium.webdriver.common.by import By\n",
    "from selenium.webdriver.support.ui import Select\n",
    "import pandas as pd\n",
    "import time\n",
    "import csv"
   ]
  },
  {
   "cell_type": "code",
   "execution_count": 39,
   "metadata": {},
   "outputs": [],
   "source": [
    "driver = webdriver.Chrome()"
   ]
  },
  {
   "cell_type": "code",
   "execution_count": 40,
   "metadata": {},
   "outputs": [],
   "source": [
    "driver.get(\"https://mtbdata.com/calendar/2024\")"
   ]
  },
  {
   "cell_type": "code",
   "execution_count": 41,
   "metadata": {},
   "outputs": [],
   "source": [
    "elements_odd = driver.find_elements(By.CLASS_NAME, \"odd\")\n",
    "elements_even = driver.find_elements(By.CLASS_NAME, \"even\")"
   ]
  },
  {
   "cell_type": "code",
   "execution_count": 42,
   "metadata": {},
   "outputs": [
    {
     "data": {
      "text/plain": [
       "'PUR'"
      ]
     },
     "execution_count": 42,
     "metadata": {},
     "output_type": "execute_result"
    }
   ],
   "source": [
    "elements_even[10].find_elements(By.CLASS_NAME, \"d-none\")[1].text"
   ]
  },
  {
   "cell_type": "code",
   "execution_count": 47,
   "metadata": {},
   "outputs": [
    {
     "data": {
      "text/plain": [
       "'Albergue Olímpico de Salinas, Puerto Rico'"
      ]
     },
     "execution_count": 47,
     "metadata": {},
     "output_type": "execute_result"
    }
   ],
   "source": [
    "elements_even[10].find_element(By.CSS_SELECTOR, \"td:nth-child(5)\").text"
   ]
  },
  {
   "cell_type": "code",
   "execution_count": 44,
   "metadata": {},
   "outputs": [
    {
     "data": {
      "text/plain": [
       "100"
      ]
     },
     "execution_count": 44,
     "metadata": {},
     "output_type": "execute_result"
    }
   ],
   "source": [
    "len(elements_even)"
   ]
  },
  {
   "cell_type": "code",
   "execution_count": 48,
   "metadata": {},
   "outputs": [],
   "source": [
    "def calender_table(selenium_webdriver):\n",
    "    date = []\n",
    "    event_link = []\n",
    "    event_name = []\n",
    "    country_code = []\n",
    "    location = []\n",
    "    category = []\n",
    "    for i in selenium_webdriver:\n",
    "        time.sleep(4)\n",
    "        date.append(i.find_element(By.TAG_NAME, \"td\").text)\n",
    "        event_link.append(i.find_element(By.TAG_NAME, \"a\").get_attribute(\"href\"))\n",
    "        event_name.append(i.find_element(By.TAG_NAME, \"a\").text)\n",
    "        country_code.append(i.find_elements(By.CLASS_NAME, \"d-none\")[1].text)\n",
    "        location.append(i.find_element(By.CSS_SELECTOR, \"td:nth-child(5)\").text)\n",
    "        category.append(i.find_element(By.CSS_SELECTOR, \"td:nth-child(6)\").text)\n",
    "\n",
    "        # row_data = {\n",
    "        #     \"Date\": date,\n",
    "        #     \"Event Link\": event_link,\n",
    "        #     \"Event Name\": event_name,\n",
    "        #     \"Country Code\": country_code,\n",
    "        #     \"Location\": location,\n",
    "        #     \"Category\": category\n",
    "        # }\n",
    "    data = {'Date': date, 'Event_Link': event_link, \"Event_Name\": event_name, \"Country_Code\": country_code, \"Location\": location, \"Category\": category}\n",
    "    df = pd.DataFrame(data)\n",
    "    \n",
    "    return df"
   ]
  },
  {
   "cell_type": "code",
   "execution_count": 49,
   "metadata": {},
   "outputs": [],
   "source": [
    "df_calender_odd = calender_table(elements_odd)"
   ]
  },
  {
   "cell_type": "code",
   "execution_count": 50,
   "metadata": {},
   "outputs": [],
   "source": [
    "df_calender_even = calender_table(elements_even)"
   ]
  },
  {
   "cell_type": "code",
   "execution_count": 51,
   "metadata": {},
   "outputs": [],
   "source": [
    "result = pd.concat([df_calender_odd, df_calender_even], ignore_index=True)"
   ]
  },
  {
   "cell_type": "code",
   "execution_count": 53,
   "metadata": {},
   "outputs": [
    {
     "data": {
      "text/html": [
       "<div>\n",
       "<style scoped>\n",
       "    .dataframe tbody tr th:only-of-type {\n",
       "        vertical-align: middle;\n",
       "    }\n",
       "\n",
       "    .dataframe tbody tr th {\n",
       "        vertical-align: top;\n",
       "    }\n",
       "\n",
       "    .dataframe thead th {\n",
       "        text-align: right;\n",
       "    }\n",
       "</style>\n",
       "<table border=\"1\" class=\"dataframe\">\n",
       "  <thead>\n",
       "    <tr style=\"text-align: right;\">\n",
       "      <th></th>\n",
       "      <th>Date</th>\n",
       "      <th>Event_Link</th>\n",
       "      <th>Event_Name</th>\n",
       "      <th>Counter_Code</th>\n",
       "      <th>Location</th>\n",
       "      <th>Category</th>\n",
       "    </tr>\n",
       "  </thead>\n",
       "  <tbody>\n",
       "    <tr>\n",
       "      <th>0</th>\n",
       "      <td>13 Jan-13 Jan</td>\n",
       "      <td>https://mtbdata.com/comp/israel-cup-1-mishmar-...</td>\n",
       "      <td>Israel Cup 1 Mishmar Haemek</td>\n",
       "      <td>ISR</td>\n",
       "      <td>Mishmar Haemek</td>\n",
       "      <td>C2</td>\n",
       "    </tr>\n",
       "    <tr>\n",
       "      <th>1</th>\n",
       "      <td>20 Jan-20 Jan</td>\n",
       "      <td>https://mtbdata.com/comp/momentum-medical-sche...</td>\n",
       "      <td>Momentum Medical Scheme Attakwas Extreme prese...</td>\n",
       "      <td>RSA</td>\n",
       "      <td>Oudtshoorn</td>\n",
       "      <td>C1</td>\n",
       "    </tr>\n",
       "    <tr>\n",
       "      <th>2</th>\n",
       "      <td>25 Jan-28 Jan</td>\n",
       "      <td>https://mtbdata.com/comp/costa-blanca-bike-rac...</td>\n",
       "      <td>Costa Blanca Bike Race - CBBR - XCMS</td>\n",
       "      <td>ESP</td>\n",
       "      <td>Calpe (Alicante)</td>\n",
       "      <td>S1</td>\n",
       "    </tr>\n",
       "    <tr>\n",
       "      <th>3</th>\n",
       "      <td>03 Feb-03 Feb</td>\n",
       "      <td>https://mtbdata.com/comp/volcat-platja-daro-e-...</td>\n",
       "      <td>Volcat Platja D'aro E-1</td>\n",
       "      <td>ESP</td>\n",
       "      <td>Platja D'Aro</td>\n",
       "      <td>C3</td>\n",
       "    </tr>\n",
       "    <tr>\n",
       "      <th>4</th>\n",
       "      <td>04 Feb-04 Feb</td>\n",
       "      <td>https://mtbdata.com/comp/xco-cup-elda-04-feb-2...</td>\n",
       "      <td>XCO CUP Elda</td>\n",
       "      <td>ESP</td>\n",
       "      <td>Elda (Alicante)</td>\n",
       "      <td>C1</td>\n",
       "    </tr>\n",
       "    <tr>\n",
       "      <th>...</th>\n",
       "      <td>...</td>\n",
       "      <td>...</td>\n",
       "      <td>...</td>\n",
       "      <td>...</td>\n",
       "      <td>...</td>\n",
       "      <td>...</td>\n",
       "    </tr>\n",
       "    <tr>\n",
       "      <th>195</th>\n",
       "      <td>13 Jun-13 Jun</td>\n",
       "      <td>https://mtbdata.com/comp/canmore-canada-cup-xc...</td>\n",
       "      <td>Canmore Canada Cup XCC</td>\n",
       "      <td>CAN</td>\n",
       "      <td>Canmore, Alberta</td>\n",
       "      <td>C3</td>\n",
       "    </tr>\n",
       "    <tr>\n",
       "      <th>196</th>\n",
       "      <td>15 Jun-15 Jun</td>\n",
       "      <td>https://mtbdata.com/comp/canmore-canada-cup-xc...</td>\n",
       "      <td>Canmore Canada Cup XCO + UCI XCO Junior Series</td>\n",
       "      <td>CAN</td>\n",
       "      <td>Canmore, Alberta</td>\n",
       "      <td>C1</td>\n",
       "    </tr>\n",
       "    <tr>\n",
       "      <th>197</th>\n",
       "      <td>15 Jun-15 Jun</td>\n",
       "      <td>https://mtbdata.com/comp/hero-sudtirol-dolomit...</td>\n",
       "      <td>Hero Südtirol Dolomites - XCM</td>\n",
       "      <td>ITA</td>\n",
       "      <td>Selva Val Gardena</td>\n",
       "      <td>HC</td>\n",
       "    </tr>\n",
       "    <tr>\n",
       "      <th>198</th>\n",
       "      <td>16 Jun-16 Jun</td>\n",
       "      <td>https://mtbdata.com/comp/copa-catalana-interna...</td>\n",
       "      <td>Copa Catalana Internacional BTT Biking Point V...</td>\n",
       "      <td>ESP</td>\n",
       "      <td>Barruera (Vall De Boi)</td>\n",
       "      <td>C2</td>\n",
       "    </tr>\n",
       "    <tr>\n",
       "      <th>199</th>\n",
       "      <td>20 Jun-23 Jun</td>\n",
       "      <td>https://mtbdata.com/comp/alpentour-trophy-xcms...</td>\n",
       "      <td>Alpentour Trophy - XCMS</td>\n",
       "      <td>AUT</td>\n",
       "      <td>Schladming</td>\n",
       "      <td>S1</td>\n",
       "    </tr>\n",
       "  </tbody>\n",
       "</table>\n",
       "<p>200 rows × 6 columns</p>\n",
       "</div>"
      ],
      "text/plain": [
       "              Date                                         Event_Link  \\\n",
       "0    13 Jan-13 Jan  https://mtbdata.com/comp/israel-cup-1-mishmar-...   \n",
       "1    20 Jan-20 Jan  https://mtbdata.com/comp/momentum-medical-sche...   \n",
       "2    25 Jan-28 Jan  https://mtbdata.com/comp/costa-blanca-bike-rac...   \n",
       "3    03 Feb-03 Feb  https://mtbdata.com/comp/volcat-platja-daro-e-...   \n",
       "4    04 Feb-04 Feb  https://mtbdata.com/comp/xco-cup-elda-04-feb-2...   \n",
       "..             ...                                                ...   \n",
       "195  13 Jun-13 Jun  https://mtbdata.com/comp/canmore-canada-cup-xc...   \n",
       "196  15 Jun-15 Jun  https://mtbdata.com/comp/canmore-canada-cup-xc...   \n",
       "197  15 Jun-15 Jun  https://mtbdata.com/comp/hero-sudtirol-dolomit...   \n",
       "198  16 Jun-16 Jun  https://mtbdata.com/comp/copa-catalana-interna...   \n",
       "199  20 Jun-23 Jun  https://mtbdata.com/comp/alpentour-trophy-xcms...   \n",
       "\n",
       "                                            Event_Name Counter_Code  \\\n",
       "0                          Israel Cup 1 Mishmar Haemek          ISR   \n",
       "1    Momentum Medical Scheme Attakwas Extreme prese...          RSA   \n",
       "2                 Costa Blanca Bike Race - CBBR - XCMS          ESP   \n",
       "3                              Volcat Platja D'aro E-1          ESP   \n",
       "4                                         XCO CUP Elda          ESP   \n",
       "..                                                 ...          ...   \n",
       "195                             Canmore Canada Cup XCC          CAN   \n",
       "196     Canmore Canada Cup XCO + UCI XCO Junior Series          CAN   \n",
       "197                      Hero Südtirol Dolomites - XCM          ITA   \n",
       "198  Copa Catalana Internacional BTT Biking Point V...          ESP   \n",
       "199                            Alpentour Trophy - XCMS          AUT   \n",
       "\n",
       "                   Location Category  \n",
       "0            Mishmar Haemek       C2  \n",
       "1                Oudtshoorn       C1  \n",
       "2          Calpe (Alicante)       S1  \n",
       "3              Platja D'Aro       C3  \n",
       "4           Elda (Alicante)       C1  \n",
       "..                      ...      ...  \n",
       "195        Canmore, Alberta       C3  \n",
       "196        Canmore, Alberta       C1  \n",
       "197       Selva Val Gardena       HC  \n",
       "198  Barruera (Vall De Boi)       C2  \n",
       "199              Schladming       S1  \n",
       "\n",
       "[200 rows x 6 columns]"
      ]
     },
     "execution_count": 53,
     "metadata": {},
     "output_type": "execute_result"
    }
   ],
   "source": [
    "result"
   ]
  },
  {
   "cell_type": "code",
   "execution_count": 54,
   "metadata": {},
   "outputs": [],
   "source": [
    "next_button = driver.find_element(By.CSS_SELECTOR, 'li#table-calendar_next a.page-link')"
   ]
  },
  {
   "cell_type": "code",
   "execution_count": 55,
   "metadata": {},
   "outputs": [],
   "source": [
    "next_button.click()"
   ]
  },
  {
   "cell_type": "code",
   "execution_count": 56,
   "metadata": {},
   "outputs": [],
   "source": [
    "elements_odd2 = driver.find_elements(By.CLASS_NAME, \"odd\")\n",
    "elements_even2 = driver.find_elements(By.CLASS_NAME, \"even\")"
   ]
  },
  {
   "cell_type": "code",
   "execution_count": 57,
   "metadata": {},
   "outputs": [
    {
     "data": {
      "text/plain": [
       "'21 Jun-23 Jun UCI Mountain Bike World Cup XCO/XCC SUI Crans Montana CDM'"
      ]
     },
     "execution_count": 57,
     "metadata": {},
     "output_type": "execute_result"
    }
   ],
   "source": [
    "elements_odd2[0].text"
   ]
  },
  {
   "cell_type": "code",
   "execution_count": 58,
   "metadata": {},
   "outputs": [],
   "source": [
    "df_calender_odd2 = calender_table(elements_odd2)\n",
    "df_calender_even2 = calender_table(elements_even2)"
   ]
  },
  {
   "cell_type": "code",
   "execution_count": 59,
   "metadata": {},
   "outputs": [],
   "source": [
    "result2 = pd.concat([df_calender_odd2, df_calender_odd2], ignore_index=True)"
   ]
  },
  {
   "cell_type": "code",
   "execution_count": 60,
   "metadata": {},
   "outputs": [],
   "source": [
    "results_complete = pd.concat([result, result2], ignore_index=True)"
   ]
  },
  {
   "cell_type": "code",
   "execution_count": 61,
   "metadata": {},
   "outputs": [],
   "source": [
    "csv_file = \"../data/uci_calender_2024_raw.csv\"\n",
    "\n",
    "# Write the DataFrame to a CSV file\n",
    "results_complete.to_csv(csv_file, index=False) "
   ]
  },
  {
   "cell_type": "code",
   "execution_count": 62,
   "metadata": {},
   "outputs": [],
   "source": [
    "driver.close()"
   ]
  },
  {
   "cell_type": "code",
   "execution_count": null,
   "metadata": {},
   "outputs": [],
   "source": []
  },
  {
   "cell_type": "code",
   "execution_count": null,
   "metadata": {},
   "outputs": [],
   "source": []
  }
 ],
 "metadata": {
  "kernelspec": {
   "display_name": ".venv",
   "language": "python",
   "name": "python3"
  },
  "language_info": {
   "codemirror_mode": {
    "name": "ipython",
    "version": 3
   },
   "file_extension": ".py",
   "mimetype": "text/x-python",
   "name": "python",
   "nbconvert_exporter": "python",
   "pygments_lexer": "ipython3",
   "version": "3.10.13"
  }
 },
 "nbformat": 4,
 "nbformat_minor": 2
}
